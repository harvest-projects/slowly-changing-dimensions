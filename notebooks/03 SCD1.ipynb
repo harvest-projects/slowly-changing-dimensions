{
 "cells": [
  {
   "cell_type": "code",
   "execution_count": 47,
   "id": "f540a729-1112-412b-a081-44e4631339d2",
   "metadata": {},
   "outputs": [],
   "source": [
    "import os\n",
    "import shutil\n",
    "from datetime import datetime"
   ]
  },
  {
   "cell_type": "code",
   "execution_count": 48,
   "id": "f7d0715f-b512-4088-90e9-482f855eb77e",
   "metadata": {},
   "outputs": [],
   "source": [
    "from pyspark import SparkContext\n",
    "from pyspark.sql import SparkSession, DataFrame\n",
    "import pyspark.sql.types as T\n",
    "import pyspark.sql.functions as F"
   ]
  },
  {
   "cell_type": "code",
   "execution_count": null,
   "id": "68521c0b",
   "metadata": {},
   "outputs": [],
   "source": [
    "sc = SparkContext()\n",
    "spark = SparkSession.builder.appName('example app').getOrCreate()"
   ]
  },
  {
   "cell_type": "markdown",
   "id": "811a69a0-bbff-4af8-949c-11a18db1c3f2",
   "metadata": {},
   "source": [
    "#### Preperation steps\n",
    "In the following cells we will perform the following steps:\n",
    "1. Read-in our target dataframe\n",
    "2. Add our technical columns to this dataframe\n",
    "3. Save the target dataframe as our 'source' dataframe (initial load)"
   ]
  },
  {
   "cell_type": "markdown",
   "id": "4b23925c-a067-432f-b955-35743c4c9778",
   "metadata": {},
   "source": [
    "##### Read-in dataframe"
   ]
  },
  {
   "cell_type": "code",
   "execution_count": 49,
   "id": "b5dc588d",
   "metadata": {},
   "outputs": [
    {
     "name": "stdout",
     "output_type": "stream",
     "text": [
      "+-----+---------------+----------+---------+--------------------+-----------------+--------------------+--------------------+--------------------+--------------------+-----------------+--------------------+\n",
      "|INDEX|    CUSTOMER_ID|FIRST_NAME|LAST_NAME|             COMPANY|             CITY|             COUNTRY|             PHONE_1|             PHONE_2|               EMAIL|SUBSCRIPTION_DATE|             WEBSITE|\n",
      "+-----+---------------+----------+---------+--------------------+-----------------+--------------------+--------------------+--------------------+--------------------+-----------------+--------------------+\n",
      "|    1|DD37Cf93aecA6Dc|    Sheryl|   Baxter|     Rasmussen Group|     East Leonard|               Chile|        229.077.5154|    397.884.0519x718|zunigavanessa@smi...|       2020-08-24|http://www.stephe...|\n",
      "|    2|1Ef7b82A4CAAD10|   Preston|   Lozano|         Vega-Gentry|East Jimmychester|            Djibouti|          5153435776|    686-620-1820x944|     vmata@colon.com|       2021-04-23|http://www.hobbs....|\n",
      "|    3|6F94879bDAfE5a6|       Roy|    Berry|       Murillo-Perry|    Isabelborough| Antigua and Barbuda|     +1-539-402-0259| (496)978-3969x58947| beckycarr@hogan.com|       2020-03-25|http://www.lawren...|\n",
      "|    4|5Cef8BFA16c5e3c|     Linda|    Olsen|Dominguez, Mcmill...|       Bensonview|  Dominican Republic|001-808-617-6467x...|     +1-813-324-8756|stanleyblackwell@...|       2020-06-02|http://www.good-l...|\n",
      "|    5|053d585Ab6b3159|    Joanna|   Bender|Martin, Lang and ...|   West Priscilla|Slovakia (Slovak ...|001-234-203-0635x...|001-199-446-3860x...|colinalvarado@mil...|       2021-04-17|https://goodwin-i...|\n",
      "+-----+---------------+----------+---------+--------------------+-----------------+--------------------+--------------------+--------------------+--------------------+-----------------+--------------------+\n",
      "only showing top 5 rows\n",
      "\n"
     ]
    }
   ],
   "source": [
    "# Define schema\n",
    "schema = T.StructType([\n",
    "    T.StructField('INDEX', T.IntegerType(), True), \n",
    "    T.StructField('CUSTOMER_ID', T.StringType(), True), \n",
    "    T.StructField('FIRST_NAME', T.StringType(), True), \n",
    "    T.StructField('LAST_NAME', T.StringType(), True), \n",
    "    T.StructField('COMPANY', T.StringType(), True), \n",
    "    T.StructField('CITY', T.StringType(), True), \n",
    "    T.StructField('COUNTRY', T.StringType(), True), \n",
    "    T.StructField('PHONE_1', T.StringType(), True), \n",
    "    T.StructField('PHONE_2', T.StringType(), True), \n",
    "    T.StructField('EMAIL', T.StringType(), True), \n",
    "    T.StructField('SUBSCRIPTION_DATE', T.DateType(), True), \n",
    "    T.StructField('WEBSITE', T.StringType(), True)\n",
    "])\n",
    "\n",
    "# Read-in dataframe\n",
    "df = (\n",
    "    spark\n",
    "    .read\n",
    "    .option('header', True)\n",
    "    .option('schema', schema)\n",
    "    .csv('scd_data/source.csv')\n",
    ")\n",
    "\n",
    "# Show dataframe\n",
    "df.show(5)"
   ]
  },
  {
   "cell_type": "markdown",
   "id": "7e2e39ce-a9d2-4171-9c59-13231d5ea3b7",
   "metadata": {},
   "source": [
    "##### Add technical columns\n",
    "We start be defining helper functions to add our technical columns to the dataframe.\n",
    "Here, the following columns are added:\n",
    "* `VALID_FROM`: indicates the timestamp at which this row was valid.\n",
    "* `VALID_TO`: indicates the timestamp at which this row was/is no longer valid.\n",
    "\n",
    "This can be done using the `pyspark.sql.types` and `pyspark.sql.function` modules."
   ]
  },
  {
   "cell_type": "code",
   "execution_count": 50,
   "id": "5c5cb113-c8ba-4eb6-82c6-0f59fa09fab7",
   "metadata": {},
   "outputs": [],
   "source": [
    "def add_technical_columns(df: DataFrame) -> DataFrame:\n",
    "    return (\n",
    "        df\n",
    "        .withColumn('VALID_FROM', F.current_timestamp().cast(T.TimestampType()))\n",
    "        .withColumn('VALID_TO', F.lit('9999-12-31 23:59:59').cast(T.TimestampType()))\n",
    "    )"
   ]
  },
  {
   "cell_type": "code",
   "execution_count": 51,
   "id": "72f31547-ebf8-4ba7-9906-52f6fda9fb9d",
   "metadata": {},
   "outputs": [],
   "source": [
    "df = add_technical_columns(df)"
   ]
  },
  {
   "cell_type": "code",
   "execution_count": 52,
   "id": "be26a891-2f61-472c-8e0f-fda225c104c2",
   "metadata": {},
   "outputs": [
    {
     "name": "stdout",
     "output_type": "stream",
     "text": [
      "+-----+---------------+----------+---------+--------------------+-----------------+--------------------+--------------------+--------------------+--------------------+-----------------+--------------------+--------------------+-------------------+\n",
      "|INDEX|    CUSTOMER_ID|FIRST_NAME|LAST_NAME|             COMPANY|             CITY|             COUNTRY|             PHONE_1|             PHONE_2|               EMAIL|SUBSCRIPTION_DATE|             WEBSITE|          VALID_FROM|           VALID_TO|\n",
      "+-----+---------------+----------+---------+--------------------+-----------------+--------------------+--------------------+--------------------+--------------------+-----------------+--------------------+--------------------+-------------------+\n",
      "|    1|DD37Cf93aecA6Dc|    Sheryl|   Baxter|     Rasmussen Group|     East Leonard|               Chile|        229.077.5154|    397.884.0519x718|zunigavanessa@smi...|       2020-08-24|http://www.stephe...|2024-05-13 21:19:...|9999-12-31 23:59:59|\n",
      "|    2|1Ef7b82A4CAAD10|   Preston|   Lozano|         Vega-Gentry|East Jimmychester|            Djibouti|          5153435776|    686-620-1820x944|     vmata@colon.com|       2021-04-23|http://www.hobbs....|2024-05-13 21:19:...|9999-12-31 23:59:59|\n",
      "|    3|6F94879bDAfE5a6|       Roy|    Berry|       Murillo-Perry|    Isabelborough| Antigua and Barbuda|     +1-539-402-0259| (496)978-3969x58947| beckycarr@hogan.com|       2020-03-25|http://www.lawren...|2024-05-13 21:19:...|9999-12-31 23:59:59|\n",
      "|    4|5Cef8BFA16c5e3c|     Linda|    Olsen|Dominguez, Mcmill...|       Bensonview|  Dominican Republic|001-808-617-6467x...|     +1-813-324-8756|stanleyblackwell@...|       2020-06-02|http://www.good-l...|2024-05-13 21:19:...|9999-12-31 23:59:59|\n",
      "|    5|053d585Ab6b3159|    Joanna|   Bender|Martin, Lang and ...|   West Priscilla|Slovakia (Slovak ...|001-234-203-0635x...|001-199-446-3860x...|colinalvarado@mil...|       2021-04-17|https://goodwin-i...|2024-05-13 21:19:...|9999-12-31 23:59:59|\n",
      "+-----+---------------+----------+---------+--------------------+-----------------+--------------------+--------------------+--------------------+--------------------+-----------------+--------------------+--------------------+-------------------+\n",
      "only showing top 5 rows\n",
      "\n"
     ]
    }
   ],
   "source": [
    "df.show(5)"
   ]
  },
  {
   "cell_type": "markdown",
   "id": "ac8b1671-70d3-470d-b4b3-c602cdcad986",
   "metadata": {},
   "source": [
    "##### Saving dataframe as 'output'\n",
    "PySpark has a particular way of saving parquet, delta, and csv files.\n",
    "Because of this, we need to create a helper function, so that our output is saved as a single csv file.\n",
    "Do not worry to much about understanding this code."
   ]
  },
  {
   "cell_type": "code",
   "execution_count": 53,
   "id": "5dd5a679-9cf5-46df-85d8-1800f62861b5",
   "metadata": {},
   "outputs": [],
   "source": [
    "def save_as_csv(df: DataFrame, file_path: str):\n",
    "    tmp_folder = file_path + 'tmp'\n",
    "    \n",
    "    # Save DataFrame to a temporary folder\n",
    "    (\n",
    "        df\n",
    "        .coalesce(1)  # Ensure a single partition\n",
    "        .write\n",
    "        .mode('overwrite')\n",
    "        .format('csv')\n",
    "        .option('header', True)\n",
    "        .save(tmp_folder)\n",
    "    )\n",
    "    \n",
    "    # Find the single partition file\n",
    "    for file_name in os.listdir(tmp_folder):\n",
    "        if file_name.endswith('.csv'):\n",
    "            tmp_file_path = os.path.join(tmp_folder, file_name)\n",
    "            break\n",
    "    \n",
    "    # Move and rename the file to the final destination\n",
    "    shutil.move(tmp_file_path, file_path)\n",
    "    \n",
    "    # Remove the temporary folder\n",
    "    shutil.rmtree(tmp_folder)"
   ]
  },
  {
   "cell_type": "code",
   "execution_count": 54,
   "id": "fad5cdb1-c1d6-4f74-b800-afe3eda4611e",
   "metadata": {},
   "outputs": [],
   "source": [
    "save_as_csv(df=df, file_path='scd_data/target.csv')"
   ]
  },
  {
   "cell_type": "markdown",
   "id": "76894016-84b7-4d0d-854c-60dd8ecc97cc",
   "metadata": {},
   "source": [
    "#### Starting the SCD1 Proces\n",
    "Now, we will begin with the implementation of the Slowly Changing Dimensions type 1. We will be implementing the following steps:\n",
    "1. Change the target dataframe by adding or editing some rows\n",
    "2. Read-in the target and source dataframe.\n",
    "3. Select the rows that have changed from the target dataframe\n",
    "4. Insert the new rows in the source dataframe."
   ]
  },
  {
   "cell_type": "markdown",
   "id": "bf1275ee-88a1-4bb2-89e2-1feeef75187f",
   "metadata": {},
   "source": [
    "##### Step 1"
   ]
  },
  {
   "cell_type": "code",
   "execution_count": 88,
   "id": "6559d2d3-7ea1-4173-815e-f6d4308b10c1",
   "metadata": {},
   "outputs": [],
   "source": [
    "# Read-in the source dataframe\n",
    "source_schema = T.StructType([\n",
    "    T.StructField('INDEX', T.IntegerType(), True), \n",
    "    T.StructField('CUSTOMER_ID', T.StringType(), True), \n",
    "    T.StructField('FIRST_NAME', T.StringType(), True), \n",
    "    T.StructField('LAST_NAME', T.StringType(), True), \n",
    "    T.StructField('COMPANY', T.StringType(), True), \n",
    "    T.StructField('CITY', T.StringType(), True), \n",
    "    T.StructField('COUNTRY', T.StringType(), True), \n",
    "    T.StructField('PHONE_1', T.StringType(), True), \n",
    "    T.StructField('PHONE_2', T.StringType(), True), \n",
    "    T.StructField('EMAIL', T.StringType(), True), \n",
    "    T.StructField('SUBSCRIPTION_DATE', T.DateType(), True), \n",
    "    T.StructField('WEBSITE', T.StringType(), True)\n",
    "])\n",
    "source_df = (\n",
    "    spark\n",
    "    .read\n",
    "    .option('header', True)\n",
    "    .option('schema', schema)\n",
    "    .csv('scd_data/source.csv')\n",
    ")\n",
    "\n",
    "# Read-in the target dataframe\n",
    "target_schema = T.StructType([\n",
    "    T.StructField('INDEX', T.IntegerType(), True), \n",
    "    T.StructField('CUSTOMER_ID', T.StringType(), True), \n",
    "    T.StructField('FIRST_NAME', T.StringType(), True), \n",
    "    T.StructField('LAST_NAME', T.StringType(), True), \n",
    "    T.StructField('COMPANY', T.StringType(), True), \n",
    "    T.StructField('CITY', T.StringType(), True), \n",
    "    T.StructField('COUNTRY', T.StringType(), True), \n",
    "    T.StructField('PHONE_1', T.StringType(), True), \n",
    "    T.StructField('PHONE_2', T.StringType(), True), \n",
    "    T.StructField('EMAIL', T.StringType(), True), \n",
    "    T.StructField('SUBSCRIPTION_DATE', T.DateType(), True), \n",
    "    T.StructField('WEBSITE', T.StringType(), True),\n",
    "    T.StructField('VALID_FROM', T.TimestampType(), True), \n",
    "    T.StructField('VALID_TO', T.TimestampType(), True), \n",
    "])\n",
    "target_df = (\n",
    "    spark\n",
    "    .read\n",
    "    .option('header', True)\n",
    "    .option('schema', schema)\n",
    "    .csv('scd_data/target.csv')\n",
    ")"
   ]
  },
  {
   "cell_type": "code",
   "execution_count": 89,
   "id": "afcb58f5-78ed-4896-81b7-3205a9f0aa1e",
   "metadata": {},
   "outputs": [
    {
     "name": "stdout",
     "output_type": "stream",
     "text": [
      "+-----+---------------+----------+---------+--------------------+-----------------+--------------------+--------------------+--------------------+--------------------+-----------------+--------------------+\n",
      "|INDEX|    CUSTOMER_ID|FIRST_NAME|LAST_NAME|             COMPANY|             CITY|             COUNTRY|             PHONE_1|             PHONE_2|               EMAIL|SUBSCRIPTION_DATE|             WEBSITE|\n",
      "+-----+---------------+----------+---------+--------------------+-----------------+--------------------+--------------------+--------------------+--------------------+-----------------+--------------------+\n",
      "|    1|DD37Cf93aecA6Dc|   Sheryll|   Baxter|     Rasmussen Group|     East Leonard|               Chile|        229.077.5154|    397.884.0519x718|zunigavanessa@smi...|       2020-08-24|http://www.stephe...|\n",
      "|    2|1Ef7b82A4CAAD10|   Preston|   Lozano|         Vega-Gentry|East Jimmychester|            Djibouti|          5153435776|    686-620-1820x944|     vmata@colon.com|       2021-04-23|http://www.hobbs....|\n",
      "|    3|6F94879bDAfE5a6|       Roy|    Berry|       Murillo-Perry|    Isabelborough| Antigua and Barbuda|     +1-539-402-0259| (496)978-3969x58947| beckycarr@hogan.com|       2020-03-25|http://www.lawren...|\n",
      "|    4|5Cef8BFA16c5e3c|     Linda|    Olsen|Dominguez, Mcmill...|       Bensonview|  Dominican Republic|001-808-617-6467x...|     +1-813-324-8756|stanleyblackwell@...|       2020-06-02|http://www.good-l...|\n",
      "|    5|053d585Ab6b3159|    Joanna|   Bender|Martin, Lang and ...|   West Priscilla|Slovakia (Slovak ...|001-234-203-0635x...|001-199-446-3860x...|colinalvarado@mil...|       2021-04-17|https://goodwin-i...|\n",
      "+-----+---------------+----------+---------+--------------------+-----------------+--------------------+--------------------+--------------------+--------------------+-----------------+--------------------+\n",
      "only showing top 5 rows\n",
      "\n"
     ]
    }
   ],
   "source": [
    "source_df.show(5)"
   ]
  },
  {
   "cell_type": "code",
   "execution_count": 90,
   "id": "66294b22-58ff-424d-8c7e-f9b91e0ff679",
   "metadata": {},
   "outputs": [
    {
     "name": "stdout",
     "output_type": "stream",
     "text": [
      "+-----+---------------+----------+---------+--------------------+-----------------+--------------------+--------------------+--------------------+--------------------+-----------------+--------------------+--------------------+--------------------+\n",
      "|INDEX|    CUSTOMER_ID|FIRST_NAME|LAST_NAME|             COMPANY|             CITY|             COUNTRY|             PHONE_1|             PHONE_2|               EMAIL|SUBSCRIPTION_DATE|             WEBSITE|          VALID_FROM|            VALID_TO|\n",
      "+-----+---------------+----------+---------+--------------------+-----------------+--------------------+--------------------+--------------------+--------------------+-----------------+--------------------+--------------------+--------------------+\n",
      "|    1|DD37Cf93aecA6Dc|    Sheryl|   Baxter|     Rasmussen Group|     East Leonard|               Chile|        229.077.5154|    397.884.0519x718|zunigavanessa@smi...|       2020-08-24|http://www.stephe...|2024-05-13T21:19:...|9999-12-31T23:59:...|\n",
      "|    2|1Ef7b82A4CAAD10|   Preston|   Lozano|         Vega-Gentry|East Jimmychester|            Djibouti|          5153435776|    686-620-1820x944|     vmata@colon.com|       2021-04-23|http://www.hobbs....|2024-05-13T21:19:...|9999-12-31T23:59:...|\n",
      "|    3|6F94879bDAfE5a6|       Roy|    Berry|       Murillo-Perry|    Isabelborough| Antigua and Barbuda|     +1-539-402-0259| (496)978-3969x58947| beckycarr@hogan.com|       2020-03-25|http://www.lawren...|2024-05-13T21:19:...|9999-12-31T23:59:...|\n",
      "|    4|5Cef8BFA16c5e3c|     Linda|    Olsen|Dominguez, Mcmill...|       Bensonview|  Dominican Republic|001-808-617-6467x...|     +1-813-324-8756|stanleyblackwell@...|       2020-06-02|http://www.good-l...|2024-05-13T21:19:...|9999-12-31T23:59:...|\n",
      "|    5|053d585Ab6b3159|    Joanna|   Bender|Martin, Lang and ...|   West Priscilla|Slovakia (Slovak ...|001-234-203-0635x...|001-199-446-3860x...|colinalvarado@mil...|       2021-04-17|https://goodwin-i...|2024-05-13T21:19:...|9999-12-31T23:59:...|\n",
      "+-----+---------------+----------+---------+--------------------+-----------------+--------------------+--------------------+--------------------+--------------------+-----------------+--------------------+--------------------+--------------------+\n",
      "only showing top 5 rows\n",
      "\n"
     ]
    }
   ],
   "source": [
    "target_df.show(5)"
   ]
  },
  {
   "cell_type": "markdown",
   "id": "9ced99af-d008-484b-bc2a-3140e910fcf1",
   "metadata": {},
   "source": [
    "##### Step 2 "
   ]
  },
  {
   "cell_type": "code",
   "execution_count": 91,
   "id": "34a1c8bf-8939-4b33-a7fd-98df05334cf8",
   "metadata": {},
   "outputs": [],
   "source": [
    "key_cols = ['COSTUMER_ID']\n",
    "tech_cols = ['VALID_FROM', 'VALID_TO']\n",
    "ctc_cols = [col for col in source_df.columns if col not in key_cols + tech_cols]"
   ]
  },
  {
   "cell_type": "code",
   "execution_count": 92,
   "id": "647ea3e5-62c3-40aa-bb5a-7be5bc460292",
   "metadata": {},
   "outputs": [],
   "source": [
    "def add_hash_column(df: DataFrame, columns: list, hash_column_name: str = 'CTC_HASH') -> DataFrame:\n",
    "    # Add a hash column to the DataFrame based on the specified columns.\n",
    "    return df.withColumn(hash_column_name, F.sha2(F.concat_ws('||', *columns), 256))"
   ]
  },
  {
   "cell_type": "code",
   "execution_count": 93,
   "id": "938f08fb-9d24-455c-b4b5-fc3afef3335c",
   "metadata": {},
   "outputs": [],
   "source": [
    "def get_changed_records(source_df: DataFrame, target_df: DataFrame, ctc_cols: list):\n",
    "    # Add hash columns based on the specified columns\n",
    "    source_df = add_hash_column(source_df, ctc_cols)\n",
    "    target_df = add_hash_column(target_df, ctc_cols)\n",
    "    \n",
    "    # Perform an inner join on CUSTOMER_ID\n",
    "    joined_df = source_df.alias('src').join(target_df.alias('tgt'), on='CUSTOMER_ID', how='inner')\n",
    "    \n",
    "    # Filter for rows where hash values are different\n",
    "    changed_df = joined_df.filter(F.col('src.CTC_HASH') != F.col('tgt.CTC_HASH')).select('src.*')\n",
    "    \n",
    "    return changed_df"
   ]
  },
  {
   "cell_type": "code",
   "execution_count": 94,
   "id": "79128b73-eb73-4550-bf36-b8c1e2d5c82b",
   "metadata": {},
   "outputs": [],
   "source": [
    "update_df = get_changed_records(source_df, target_df, ctc_cols)"
   ]
  },
  {
   "cell_type": "code",
   "execution_count": 95,
   "id": "c82ef636-8df2-49a1-a7f3-01cf2fe95f2a",
   "metadata": {},
   "outputs": [
    {
     "name": "stdout",
     "output_type": "stream",
     "text": [
      "+---------------+-----+----------+---------+---------------+------------+-------+------------+----------------+--------------------+-----------------+--------------------+--------------------+\n",
      "|    CUSTOMER_ID|INDEX|FIRST_NAME|LAST_NAME|        COMPANY|        CITY|COUNTRY|     PHONE_1|         PHONE_2|               EMAIL|SUBSCRIPTION_DATE|             WEBSITE|            CTC_HASH|\n",
      "+---------------+-----+----------+---------+---------------+------------+-------+------------+----------------+--------------------+-----------------+--------------------+--------------------+\n",
      "|DD37Cf93aecA6Dc|    1|   Sheryll|   Baxter|Rasmussen Group|East Leonard|  Chile|229.077.5154|397.884.0519x718|zunigavanessa@smi...|       2020-08-24|http://www.stephe...|e304136e0ed441ef5...|\n",
      "+---------------+-----+----------+---------+---------------+------------+-------+------------+----------------+--------------------+-----------------+--------------------+--------------------+\n",
      "\n"
     ]
    }
   ],
   "source": [
    "update_df.show(5)"
   ]
  },
  {
   "cell_type": "code",
   "execution_count": null,
   "id": "e6e3d2ac-19c8-4f3c-a201-85717a4cb983",
   "metadata": {},
   "outputs": [],
   "source": []
  }
 ],
 "metadata": {
  "kernelspec": {
   "display_name": "Python 3 (ipykernel)",
   "language": "python",
   "name": "python3"
  },
  "language_info": {
   "codemirror_mode": {
    "name": "ipython",
    "version": 3
   },
   "file_extension": ".py",
   "mimetype": "text/x-python",
   "name": "python",
   "nbconvert_exporter": "python",
   "pygments_lexer": "ipython3",
   "version": "3.11.6"
  }
 },
 "nbformat": 4,
 "nbformat_minor": 5
}
